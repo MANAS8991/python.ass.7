{
 "cells": [
  {
   "cell_type": "markdown",
   "id": "ab2a4536",
   "metadata": {},
   "source": [
    "#  1. What is the name of the feature responsible for generating Regex objects?"
   ]
  },
  {
   "cell_type": "raw",
   "id": "7f8ef593",
   "metadata": {},
   "source": [
    "In Python, the feature responsible for generating Regex objects is called the \"re\" module. The \"re\" module provides support for regular expressions, which are a powerful tool for pattern matching and manipulation of strings. By importing the \"re\" module, you can create Regex objects and utilize various methods and functions to work with regular expressions.\n"
   ]
  },
  {
   "cell_type": "markdown",
   "id": "75e64a7e",
   "metadata": {},
   "source": [
    "# 2. Why do raw strings often appear in Regex objects?"
   ]
  },
  {
   "cell_type": "code",
   "execution_count": null,
   "id": "6f1ad328",
   "metadata": {},
   "outputs": [],
   "source": [
    "Raw strings are often used in Regex objects to avoid unwanted interpretation of escape characters. In Python, backslashes () have a special meaning in string literals as they are used to represent escape sequences. However, in regular expressions, backslashes are frequently used as part of the pattern syntax.\n",
    "\n",
    "By using a raw string in a Regex object, denoted by the 'r' prefix, backslashes are treated as literal characters rather than escape characters. This allows you to write regular expressions without having to double-escape backslashes. It simplifies the readability and avoids potential errors caused by misinterpretation of backslashes.\n",
    "\n",
    "For example, consider a regular expression pattern that matches a backslash followed by a digit: r'\\(\\d)'. If a non-raw string were used, it would be written as '\\(\\d)', with each backslash being escaped. However, by using a raw string, only a single backslash is required, making the pattern more concise and easier to understand: r'\\(\\d)'."
   ]
  },
  {
   "cell_type": "markdown",
   "id": "a2a5fb50",
   "metadata": {},
   "source": [
    "# 3. What is the return value of the search() method?"
   ]
  },
  {
   "cell_type": "code",
   "execution_count": null,
   "id": "9be51f70",
   "metadata": {},
   "outputs": [],
   "source": [
    "The search() method of a Regex object in Python returns a match object if a match is found, and None if no match is found.\n",
    "Here's an example demonstrating the usage of the search() method:\n",
    "\n",
    "import re\n",
    "\n",
    "pattern = r'hello'\n",
    "text = 'Hello, world!'\n",
    "\n",
    "match = re.search(pattern, text)\n",
    "\n",
    "if match:\n",
    "    print('Match found:', match.group())\n",
    "else:\n",
    "    print('No match found') \n",
    "    \n",
    "If a match is found, the program prints 'Match found:' followed by the matched string obtained using match.group(). In this case, the output is 'Match found: Hello'.\n",
    "\n",
    "If no match is found, the program prints 'No match found'.\n"
   ]
  },
  {
   "cell_type": "markdown",
   "id": "9919e0d4",
   "metadata": {},
   "source": [
    "# 4. From a Match item, how do you get the actual strings that match the pattern?"
   ]
  },
  {
   "cell_type": "code",
   "execution_count": null,
   "id": "93fee82b",
   "metadata": {},
   "outputs": [],
   "source": [
    "To obtain the actual strings that match the pattern from a match object in Python, you can use the group() method or its variants.\n",
    "\n",
    "The group() method, without any arguments, returns the entire matched string. If capturing groups are present in the pattern, you can pass an argument to group() to access the specific captured group.\n",
    "\n",
    "Here's an example:\n",
    "\n",
    "import re\n",
    "\n",
    "pattern = r'(\\d+)-(\\w+)'\n",
    "text = '123-abc'\n",
    "\n",
    "match = re.search(pattern, text)\n",
    "\n",
    "if match:\n",
    "    print('Match found:', match.group())      # Output: Match found: 123-abc\n",
    "    print('Group 1:', match.group(1))          # Output: Group 1: 123\n",
    "    print('Group 2:', match.group(2))          # Output: Group 2: abc\n",
    "else:\n",
    "    print('No match found')\n",
    "\n",
    "    \n",
    "In this example, the pattern r'(\\d+)-(\\w+)' consists of two capturing groups: (\\d+) to match one or more digits and (\\w+) to match one or more word characters.\n",
    "\n",
    "After performing the search using re.search(), the match object is assigned to the variable match. By calling match.group(), the entire matched string '123-abc' is returned.\n",
    "\n",
    "You can also access specific captured groups using match.group(n), where n represents the index of the capturing group. In this case, match.group(1) returns '123', and match.group(2) returns 'abc', representing the matched substrings within the respective capturing groups."
   ]
  },
  {
   "cell_type": "markdown",
   "id": "ec34d674",
   "metadata": {},
   "source": [
    "# 5. In the regex which created from the r'(\\d\\d\\d)-(\\d\\d\\d-\\d\\d\\d\\d)'', what does group zero cover?\n",
    "# Group 2? Group 1?"
   ]
  },
  {
   "cell_type": "code",
   "execution_count": null,
   "id": "5360cc36",
   "metadata": {},
   "outputs": [],
   "source": [
    "In the regular expression r'(\\d\\d\\d)-(\\d\\d\\d-\\d\\d\\d\\d)', the groups are defined by the parentheses (). Here's the breakdown of the groups:\n",
    "\n",
    "Group 0: The entire matched string.\n",
    "Group 1: The first capturing group (\\d\\d\\d), which matches three digits.\n",
    "Group 2: The second capturing group (\\d\\d\\d-\\d\\d\\d\\d), which matches a pattern of three digits followed by a hyphen and four digits.\n",
    "To illustrate this, let's consider an example:\n",
    "import re\n",
    "\n",
    "pattern = r'(\\d\\d\\d)-(\\d\\d\\d-\\d\\d\\d\\d)'\n",
    "text = '123-456-7890'\n",
    "\n",
    "match = re.search(pattern, text)\n",
    "\n",
    "if match:\n",
    "    print('Match found:', match.group())      # Output: Match found: 123-456-7890\n",
    "    print('Group 0:', match.group(0))         # Output: Group 0: 123-456-7890\n",
    "    print('Group 1:', match.group(1))         # Output: Group 1: 123\n",
    "    print('Group 2:', match.group(2))         # Output: Group 2: 456-7890\n",
    "else:\n",
    "    print('No match found')\n",
    "    \n",
    "In this example, the input string '123-456-7890' matches the pattern. Using re.search(), we obtain the match object assigned to the variable match.\n",
    "\n",
    "match.group() returns the entire matched string '123-456-7890'.\n",
    "match.group(0) is equivalent to match.group(), returning the entire matched string '123-456-7890'.\n",
    "match.group(1) returns the string '123', which represents the content of the first capturing group (\\d\\d\\d).\n",
    "match.group(2) returns the string '456-7890', corresponding to the second capturing group (\\d\\d\\d-\\d\\d\\d\\d).\n"
   ]
  },
  {
   "cell_type": "markdown",
   "id": "aa18757d",
   "metadata": {},
   "source": [
    "# 6. In standard expression syntax, parentheses and intervals have distinct meanings. How can you tell a regex that you want it to fit real parentheses and periods?"
   ]
  },
  {
   "cell_type": "code",
   "execution_count": null,
   "id": "da3f2254",
   "metadata": {},
   "outputs": [],
   "source": [
    "In regular expression syntax, parentheses and periods have special meanings, representing grouping and any character (except newline) respectively. To match real parentheses and periods as literal characters in a regex, you can use the backslash \\ to escape them.\n",
    "\n",
    "Here's how you can use the backslash to match real parentheses and periods:\n",
    "\n",
    "To match a literal parenthesis, use \\( to escape the opening parenthesis and \\) to escape the closing parenthesis. For example, to match the string \"(Hello)\", the regex pattern would be \\(Hello\\).\n",
    "\n",
    "To match a literal period, use \\. to escape the period. For example, to match the string \"www.example.com\", the regex pattern would be www\\.example\\.com.\n",
    "\n",
    "By escaping parentheses and periods with a backslash, you can indicate to the regex that you want them to be treated as literal characters rather than having their special meanings.\n",
    "\n",
    "Here's an example illustrating the usage of escaped parentheses and periods:\n",
    "\n",
    "import re\n",
    "\n",
    "pattern = r'\\(Hello\\)'\n",
    "text = '(Hello)'\n",
    "\n",
    "match = re.search(pattern, text)\n",
    "\n",
    "if match:\n",
    "    print('Match found:', match.group())   # Output: Match found: (Hello)\n",
    "else:\n",
    "    print('No match found')\n",
    "\n",
    "    In this example, the regex pattern r'\\(Hello\\)' matches the string \"(Hello)\" exactly. The escaped parentheses \\( and \\) represent literal parentheses. If a match is found, the program prints 'Match found: (Hello)'"
   ]
  },
  {
   "cell_type": "markdown",
   "id": "7c6275cf",
   "metadata": {},
   "source": [
    "# 7. The findall() method returns a string list or a list of string tuples. What causes it to return one of the two options?"
   ]
  },
  {
   "cell_type": "code",
   "execution_count": null,
   "id": "e55e663e",
   "metadata": {},
   "outputs": [],
   "source": [
    "The findall() method in Python's regular expression module, re, returns different results based on the presence of capturing groups in the regular expression pattern.\n",
    "\n",
    "If the regular expression pattern has no capturing groups (i.e., no parentheses), findall() returns a list of strings. Each element in the list represents a complete match found in the input string.\n",
    "\n",
    "For example:\n",
    "import re\n",
    "\n",
    "pattern = r'\\d+'\n",
    "text = 'I have 42 apples and 7 oranges.'\n",
    "\n",
    "matches = re.findall(pattern, text)\n",
    "\n",
    "print(matches)  # Output: ['42', '7']\n",
    "\n",
    "In this example, the pattern \\d+ matches one or more digits. Since there are no capturing groups in the pattern, findall() returns a list of strings ['42', '7'], representing the complete matches found in the input string."
   ]
  },
  {
   "cell_type": "markdown",
   "id": "e4fb0d51",
   "metadata": {},
   "source": [
    "# 8. In standard expressions, what does the | character mean?"
   ]
  },
  {
   "cell_type": "code",
   "execution_count": null,
   "id": "6636d2e6",
   "metadata": {},
   "outputs": [],
   "source": [
    "In regular expressions, the | character is known as the pipe or alternation operator. It is used to specify alternatives or choices within a pattern. The | character allows you to match either the pattern to its left or the pattern to its right.\n",
    "\n",
    "Here's an example to illustrate the usage of the | character:\n",
    "\n",
    "import re\n",
    "\n",
    "pattern = r'apple|banana'\n",
    "text = 'I like apple and banana.'\n",
    "\n",
    "matches = re.findall(pattern, text)\n",
    "\n",
    "print(matches)  # Output: ['apple', 'banana']\n"
   ]
  },
  {
   "cell_type": "markdown",
   "id": "d3197a27",
   "metadata": {},
   "source": [
    "# 9. In regular expressions, what does the character stand for? "
   ]
  },
  {
   "cell_type": "code",
   "execution_count": null,
   "id": "57105b36",
   "metadata": {},
   "outputs": [],
   "source": [
    ". (dot): Matches any character except a newline.\n",
    "* (asterisk): Matches zero or more occurrences of the preceding element.\n",
    "+ (plus): Matches one or more occurrences of the preceding element.\n",
    "? (question mark): Matches zero or one occurrence of the preceding element.\n",
    "^ (caret): Matches the start of a string.\n",
    "$ (dollar sign): Matches the end of a string.\n",
    "[ ] (square brackets): Defines a character class, matching any single character within the brackets.\n",
    "| (pipe): Acts as the alternation operator, allowing the choice between two or more patterns.\n",
    "\\ (backslash): Used for escaping special characters or indicating special sequences.\n",
    "These are just a few examples of the special characters used in regular expressions. Each character has its own significance and meaning, enabling you to construct powerful patterns for matching and manipulating strings. If you have a specific character in mind or need more information about a particular character, please let me know, and I'll be happy to provide further details.\n"
   ]
  },
  {
   "cell_type": "markdown",
   "id": "6a7af62e",
   "metadata": {},
   "source": [
    "# 10.In regular expressions, what is the difference between the + and * characters?"
   ]
  },
  {
   "cell_type": "code",
   "execution_count": null,
   "id": "6f69008b",
   "metadata": {},
   "outputs": [],
   "source": [
    "1- * (asterisk):\n",
    "\n",
    "Matches zero or more occurrences of the preceding element.\n",
    "The preceding element can occur zero times, making it optional.\n",
    "Examples: ab* matches \"a\", \"ab\", \"abb\", \"abbb\", and so on.\n",
    "\n",
    "2- + (plus):\n",
    "\n",
    "Matches one or more occurrences of the preceding element.\n",
    "The preceding element must occur at least once.\n",
    "Examples: ab+ matches \"ab\", \"abb\", \"abbb\", and so on, but not \"a\" alone.\n",
    "To summarize:\n",
    "\n",
    "* matches zero or more occurrences, including the possibility of zero occurrences.\n",
    "+ matches one or more occurrences, requiring at least one occurrence.\n",
    "Here's an example to illustrate the difference:\n",
    "\n",
    "import re\n",
    "\n",
    "pattern1 = r'ab*'  # Matches \"a\", \"ab\", \"abb\", \"abbb\", ...\n",
    "pattern2 = r'ab+'  # Matches \"ab\", \"abb\", \"abbb\", ...\n",
    "\n",
    "text = 'ab abb a'\n",
    "\n",
    "matches1 = re.findall(pattern1, text)\n",
    "matches2 = re.findall(pattern2, text)\n",
    "\n",
    "print(matches1)  # Output: ['a', 'ab', 'abb']\n",
    "print(matches2)  # Output: ['ab', 'abb']\n"
   ]
  },
  {
   "cell_type": "markdown",
   "id": "f87446b8",
   "metadata": {},
   "source": [
    "# 11. What is the difference between {4} and {4,5} in regular expression?"
   ]
  },
  {
   "cell_type": "code",
   "execution_count": null,
   "id": "698251ee",
   "metadata": {},
   "outputs": [],
   "source": [
    "In regular expressions, the curly braces {} are used as quantifiers to specify the exact number of occurrences of the preceding element in a pattern. The difference between {4} and {4,5} is as follows:\n",
    "\n",
    "{4}:\n",
    "\n",
    "Matches exactly four occurrences of the preceding element.\n",
    "Examples: a{4} matches \"aaaa\", (\\d{4}) matches a group of four digits.\n",
    "{4,5}:\n",
    "\n",
    "Matches a range of occurrences of the preceding element, from the minimum specified to the maximum specified.\n",
    "Matches at least four occurrences and up to five occurrences.\n",
    "Examples: a{4,5} matches \"aaaa\" and \"aaaaa\", (\\d{4,5}) matches a group of four or five digits.\n",
    "To summarize:\n",
    "\n",
    "{4} matches exactly four occurrences of the preceding element.\n",
    "{4,5} matches a range of occurrences, from four to five occurrences.\n",
    "Here's an example to illustrate the difference:\n",
    "import re\n",
    "\n",
    "pattern1 = r'a{4}'    # Matches exactly four 'a' characters.\n",
    "pattern2 = r'a{4,5}'  # Matches four or five 'a' characters.\n",
    "\n",
    "text = 'aaaa aaaaa aa'\n",
    "\n",
    "matches1 = re.findall(pattern1, text)\n",
    "matches2 = re.findall(pattern2, text)\n",
    "\n",
    "print(matches1)  # Output: ['aaaa']\n",
    "print(matches2)  # Output: ['aaaa', 'aaaaa']\n",
    "\n",
    "In this example, the pattern a{4} matches \"aaaa\" because it matches exactly four occurrences of the letter \"a\". The pattern a{4,5} matches \"aaaa\" and \"aaaaa\" because it matches a range of occurrences from four to five."
   ]
  },
  {
   "cell_type": "markdown",
   "id": "6846816b",
   "metadata": {},
   "source": [
    "# 12. What do you mean by the \\d, \\w, and \\s shorthand character classes signify in regular expressions?"
   ]
  },
  {
   "cell_type": "code",
   "execution_count": null,
   "id": "faa21136",
   "metadata": {},
   "outputs": [],
   "source": [
    "\\d:\n",
    "\n",
    "Represents any digit character (0-9).\n",
    "It is equivalent to the character class [0-9].\n",
    "Example: \\d matches any single digit.\n",
    "\n",
    "\\w:\n",
    "\n",
    "Represents any word character (alphanumeric character or underscore).\n",
    "It includes uppercase and lowercase letters, digits, and underscore (_).\n",
    "It is equivalent to the character class [a-zA-Z0-9_].\n",
    "Example: \\w matches any single alphanumeric character or underscore.\n",
    "\n",
    "\\s:\n",
    "\n",
    "Represents any whitespace character, including spaces, tabs, and newline characters.\n",
    "It is equivalent to the character class [\\t\\n\\r\\f\\v ].\n",
    "Example: \\s matches any single whitespace character."
   ]
  },
  {
   "cell_type": "markdown",
   "id": "72d20593",
   "metadata": {},
   "source": [
    "# 13. What do means by \\D, \\W, and \\S shorthand character classes signify in regular expressions?"
   ]
  },
  {
   "cell_type": "code",
   "execution_count": null,
   "id": "6064b4f2",
   "metadata": {},
   "outputs": [],
   "source": [
    "\\D:\n",
    "\n",
    "Represents any non-digit character.\n",
    "It is equivalent to the character class [^0-9].\n",
    "Example: \\D matches any single non-digit character.\n",
    "\n",
    "\\W:\n",
    "\n",
    "Represents any non-word character.\n",
    "It matches any character that is not an alphanumeric character or underscore (_).\n",
    "It is equivalent to the character class [^a-zA-Z0-9_].\n",
    "Example: \\W matches any single non-word character.\n",
    "\n",
    "\\S:\n",
    "\n",
    "Represents any non-whitespace character.\n",
    "It matches any character that is not a whitespace character (spaces, tabs, newlines, etc.).\n",
    "It is equivalent to the character class [^\\t\\n\\r\\f\\v ].\n",
    "Example: \\S matches any single non-whitespace character."
   ]
  },
  {
   "cell_type": "markdown",
   "id": "8f485474",
   "metadata": {},
   "source": [
    "# 14. What is the difference between .*? and .*?"
   ]
  },
  {
   "cell_type": "code",
   "execution_count": null,
   "id": "489b99a5",
   "metadata": {},
   "outputs": [],
   "source": [
    ".*? (Lazy or Non-greedy):\n",
    "\n",
    "The ? after .* makes the .* pattern match lazily or non-greedily.\n",
    "It matches the shortest possible substring that satisfies the pattern.\n",
    "It stops as soon as the subsequent part of the pattern can be matched.\n",
    "Example: a.*?b matches \"ab\" in the string \"aabab\".\n",
    ".* (Greedy):\n",
    "\n",
    "Without the ?, the .* pattern matches greedily.\n",
    "It matches the longest possible substring that satisfies the pattern.\n",
    "It continues matching until the subsequent part of the pattern cannot be matched.\n",
    "Example: a.*b matches \"aabab\" in the string \"aabab\"."
   ]
  },
  {
   "cell_type": "markdown",
   "id": "388b1884",
   "metadata": {},
   "source": [
    "# 15. What is the syntax for matching both numbers and lowercase letters with a character class?"
   ]
  },
  {
   "cell_type": "code",
   "execution_count": null,
   "id": "e1858015",
   "metadata": {},
   "outputs": [],
   "source": [
    "To match both numbers and lowercase letters using a character class in regular expressions, you can use the range of characters within the character class. The syntax for matching both numbers (0-9) and lowercase letters (a-z) in a character class is [0-9a-z]. \n",
    "Here is example:\n",
    "\n",
    "import re\n",
    "\n",
    "text = 'abc123xyz'\n",
    "\n",
    "pattern = r'[0-9a-z]'  # Matches any single digit or lowercase letter\n",
    "\n",
    "matches = re.findall(pattern, text)\n",
    "\n",
    "print(matches)  # Output: ['a', 'b', 'c', '1', '2', '3', 'x', 'y', 'z']\n",
    "\n",
    "In this example, the pattern [0-9a-z] matches any single character that is a digit (0-9) or a lowercase letter (a-z) in the string text. The re.findall() function is used to find all matches of the pattern in the text. The output will be ['a', 'b', 'c', '1', '2', '3', 'x', 'y', 'z'], which represents the matching characters in the text."
   ]
  },
  {
   "cell_type": "markdown",
   "id": "ec6a307e",
   "metadata": {},
   "source": [
    "# 16. What is the procedure for making a normal expression in regax case insensitive?"
   ]
  },
  {
   "cell_type": "code",
   "execution_count": null,
   "id": "bd0160d7",
   "metadata": {},
   "outputs": [],
   "source": [
    "To make a regular expression case-insensitive in Python, you can use the re.IGNORECASE flag or the re.I flag as an argument to the regex functions. Here's the procedure:\n",
    "\n",
    "Import the re module:\n",
    "import re\n",
    "\n",
    "Define your regular expression pattern using the re module functions.\n",
    "\n",
    "Use the re.IGNORECASE flag as an argument to the regex functions.\n",
    "\n",
    "Alternatively, you can use the re.I flag, which is an abbreviation for re.IGNORECASE.\n",
    "Here's an example that demonstrates how to make a regular expression case-insensitive:\n",
    "\n",
    "import re\n",
    "\n",
    "text = 'Hello, World!'\n",
    "\n",
    "pattern = r'hello'  # Case-sensitive pattern\n",
    "\n",
    "matches = re.findall(pattern, text)\n",
    "print(matches)  # Output: []\n",
    "\n",
    "pattern = r'hello'  # Case-insensitive pattern\n",
    "\n",
    "matches = re.findall(pattern, text, re.IGNORECASE)\n",
    "print(matches)  # Output: ['Hello']\n"
   ]
  },
  {
   "cell_type": "markdown",
   "id": "f1c2e302",
   "metadata": {},
   "source": [
    "# 17. What does the . character normally match? What does it match if re.DOTALL is passed as 2nd argument in re.compile()?"
   ]
  },
  {
   "cell_type": "code",
   "execution_count": null,
   "id": "9a882e9d",
   "metadata": {},
   "outputs": [],
   "source": [
    "In regular expressions, the . (dot) character normally matches any character except a newline character (\\n). It matches a single character from the input text.\n",
    "\n",
    "However, if the re.DOTALL flag is passed as the second argument in the re.compile() function or used as a flag in other regex functions, it changes the behavior of the . character. With the re.DOTALL flag, the . character matches any character, including newline characters.\n",
    "Example:\n",
    "    \n",
    "import re\n",
    "\n",
    "text = '''Hello\n",
    "World'''\n",
    "\n",
    "pattern = r'H.llo'  # Matches 'H' followed by any character followed by 'llo'\n",
    "matches = re.findall(pattern, text)\n",
    "print(matches)  # Output: ['Hello']\n",
    "\n",
    "pattern = r'H.llo'  # Matches 'H' followed by any character followed by 'llo' (with re.DOTALL)\n",
    "regex = re.compile(pattern, re.DOTALL)\n",
    "matches = regex.findall(text)\n",
    "print(matches)  # Output: ['Hello\\n']\n",
    "\n",
    "In the first example without the re.DOTALL flag, the pattern H.llo matches the substring 'Hello' because the . matches any character except a newline character. The newline character between 'Hello' and 'World' prevents a match.\n",
    "\n",
    "In the second example with the re.DOTALL flag, the pattern H.llo is compiled with re.DOTALL, which makes the . match any character, including newline characters. As a result, the pattern matches the entire substring 'Hello\\n', including the newline character."
   ]
  },
  {
   "cell_type": "markdown",
   "id": "4e3c2a6e",
   "metadata": {},
   "source": [
    "# 18. If numReg = re.compile(r'\\d+''), what will numRegex.sub('X', '11 drummers, 10 pipers, five rings, 4 hen') return?"
   ]
  },
  {
   "cell_type": "code",
   "execution_count": null,
   "id": "1a616ac3",
   "metadata": {},
   "outputs": [],
   "source": [
    "If numReg is defined as numReg = re.compile(r'\\d+'), and we use numReg.sub('X', '11 drummers, 10 pipers, five rings, 4 hen'), the sub() method will replace all occurrences of one or more digits with the string 'X'. Here's the result:\n",
    "import re\n",
    "\n",
    "numReg = re.compile(r'\\d+')\n",
    "text = '11 drummers, 10 pipers, five rings, 4 hen'\n",
    "result = numReg.sub('X', text)\n",
    "print(result)  # Output: 'X drummers, X pipers, five rings, X hen'\n",
    "\n",
    "In this case, the sub() method replaces all sequences of digits with the string 'X'. The resulting string is 'X drummers, X pipers, five rings, X hen'. All numeric values in the original string are replaced with the letter 'X'."
   ]
  },
  {
   "cell_type": "markdown",
   "id": "9c749fbd",
   "metadata": {},
   "source": [
    "# 19. What does passing re.VERBOSE as the 2nd argument to re.compile() allow to do?"
   ]
  },
  {
   "cell_type": "code",
   "execution_count": null,
   "id": "6c70b57f",
   "metadata": {},
   "outputs": [],
   "source": [
    "Passing re.VERBOSE as the second argument to re.compile() allows you to include whitespace and comments in your regular expression pattern for improved readability. It enables the use of multi-line regular expressions with inline comments.\n",
    "\n",
    "Here's an example to illustrate the usage of re.VERBOSE:\n",
    "\n",
    "import re\n",
    "\n",
    "pattern = r'''\n",
    "    \\d{3}  # Match three digits\n",
    "    -      # Match a dash\n",
    "    \\d{4}  # Match four digits\n",
    "'''\n",
    "\n",
    "text = 'Phone numbers: 123-4567, 987-6543'\n",
    "\n",
    "regex = re.compile(pattern, re.VERBOSE)\n",
    "matches = regex.findall(text)\n",
    "print(matches)  # Output: ['123-4567', '987-6543']\n",
    "\n",
    "In this example, the regular expression pattern for matching phone numbers is defined with re.VERBOSE as the second argument to re.compile(). The pattern includes whitespace and inline comments to make it more readable and understandable.\n",
    "\n",
    "The pattern is defined as a multi-line string, allowing you to structure it across multiple lines. Inline comments using the # character can be added to provide explanations for different parts of the pattern."
   ]
  },
  {
   "cell_type": "markdown",
   "id": "40b8be43",
   "metadata": {},
   "source": [
    "# 20. How would you write a regex that match a number with comma for every three digits? It must match the given following:\n",
    "# '42'\n",
    "# '1,234'\n",
    "# '6,368,745'\n",
    "# but not the following:\n",
    "# '12,34,567' (which has only two digits between the commas)\n",
    "# '1234' (which lacks commas)"
   ]
  },
  {
   "cell_type": "code",
   "execution_count": null,
   "id": "a565c0d8",
   "metadata": {},
   "outputs": [],
   "source": [
    "To write a regex that matches a number with a comma for every three digits, but not when there are only two digits between the commas or no commas at all, you can use the following pattern:\n",
    "import re\n",
    "\n",
    "pattern = r'^\\d{1,3}(,\\d{3})*(?<!,\\d{2})$'\n",
    "\n",
    "Let's break down the pattern:\n",
    "\n",
    "^ asserts the start of the string.\n",
    "\\d{1,3} matches one to three digits at the beginning.\n",
    "(,\\d{3})* matches zero or more occurrences of a comma followed by exactly three digits.\n",
    "(?<!,\\d{2}) is a negative lookbehind assertion that ensures there is not a comma followed by exactly two digits before the end of the string.\n",
    "$ asserts the end of the string.\n",
    "\n",
    "Example:\n",
    "import re\n",
    "\n",
    "pattern = r'^\\d{1,3}(,\\d{3})*(?<!,\\d{2})$'\n",
    "strings = ['42', '1,234', '6,368,745', '12,34,567', '1234']\n",
    "\n",
    "for string in strings:\n",
    "    if re.match(pattern, string):\n",
    "        print(f\"'{string}' is a match.\")\n",
    "    else:\n",
    "        print(f\"'{string}' is not a match.\")\n",
    "        \n",
    "output:\n",
    "'42' is a match.\n",
    "'1,234' is a match.\n",
    "'6,368,745' is a match.\n",
    "'12,34,567' is not a match.\n",
    "'1234' is not a match.\n",
    "\n",
    "\n",
    " "
   ]
  },
  {
   "cell_type": "markdown",
   "id": "31566ad7",
   "metadata": {},
   "source": [
    "# 21. How would you write a regex that matches the full name of someone whose last name is Watanabe? You can assume that the first name that comes before it will always be one word that begins with a capital letter. The regex must match the following:\n",
    "# 'Haruto Watanabe'\n",
    "# 'Alice Watanabe'\n",
    "# 'RoboCop Watanabe'\n",
    "# but not the following:\n",
    "# 'haruto Watanabe' (where the first name is not capitalized)\n",
    "# 'Mr. Watanabe' (where the preceding word has a nonletter character)\n",
    "# 'Watanabe' (which has no first name)\n",
    "# 'Haruto watanabe' (where Watanabe is not capitalized)"
   ]
  },
  {
   "cell_type": "code",
   "execution_count": null,
   "id": "266ce8c3",
   "metadata": {},
   "outputs": [],
   "source": [
    "To write a regex that matches the full name of someone whose last name is \"Watanabe\" and the first name is one word that begins with a capital letter, you can use the following pattern:\n",
    "\n",
    "import re\n",
    "\n",
    "pattern = r'^[A-Z][a-zA-Z]*\\sWatanabe$'\n",
    "\n",
    "import re\n",
    "\n",
    "pattern = r'^[A-Z][a-zA-Z]*\\sWatanabe$'\n",
    "\n",
    "Example:\n",
    "import re\n",
    "\n",
    "pattern = r'^[A-Z][a-zA-Z]*\\sWatanabe$'\n",
    "strings = ['Haruto Watanabe', 'Alice Watanabe', 'RoboCop Watanabe', 'haruto Watanabe', 'Mr. Watanabe', 'Watanabe', 'Haruto watanabe']\n",
    "\n",
    "for string in strings:\n",
    "    if re.match(pattern, string):\n",
    "        print(f\"'{string}' is a match.\")\n",
    "    else:\n",
    "        print(f\"'{string}' is not a match.\")\n",
    "\n",
    "Output:\n",
    "'Haruto Watanabe' is a match.\n",
    "'Alice Watanabe' is a match.\n",
    "'RoboCop Watanabe' is a match.\n",
    "'haruto Watanabe' is not a match.\n",
    "'Mr. Watanabe' is not a match.\n",
    "'Watanabe' is not a match.\n",
    "'Haruto watanabe' is not a match.\n"
   ]
  },
  {
   "cell_type": "markdown",
   "id": "2c2ab692",
   "metadata": {},
   "source": [
    "# 22. How would you write a regex that matches a sentence where the first word is either Alice, Bob, or Carol; the second word is either eats, pets, or throws; the third word is apples, cats, or baseballs; and the sentence ends with a period? This regex should be case-insensitive. It must match the following:\n",
    "# 'Alice eats apples.'\n",
    "# 'Bob pets cats.'\n",
    "# 'Carol throws baseballs.'\n",
    "# 'Alice throws Apples.'\n",
    "# 'BOB EATS CATS.'\n",
    "# but not the following:\n",
    "# 'RoboCop eats apples.'\n",
    "# 'ALICE THROWS FOOTBALLS.'\n",
    "# 'Carol eats 7 cats.'"
   ]
  },
  {
   "cell_type": "code",
   "execution_count": null,
   "id": "b5066059",
   "metadata": {},
   "outputs": [],
   "source": [
    "To write a regex that matches a sentence with specific word patterns, you can use the following pattern:\n",
    "import re\n",
    "\n",
    "pattern = r'^(Alice|Bob|Carol)\\s(eats|pets|throws)\\s(apples|cats|baseballs)\\.$'\n",
    "\n",
    "Let's break down the pattern:\n",
    "\n",
    "^ asserts the start of the string.\n",
    "(Alice|Bob|Carol) matches either \"Alice\", \"Bob\", or \"Carol\" as the first word.\n",
    "\\s matches a whitespace character.\n",
    "(eats|pets|throws) matches either \"eats\", \"pets\", or \"throws\" as the second word.\n",
    "\\s matches a whitespace character.\n",
    "(apples|cats|baseballs) matches either \"apples\", \"cats\", or \"baseballs\" as the third word.\n",
    "\\. matches a period at the end of the sentence.\n",
    "$ asserts the end of the string.\n",
    "Here's an example of using this regex pattern to match the given strings:\n",
    "Let's break down the pattern:\n",
    "\n",
    "import re\n",
    "\n",
    "pattern = r'^(Alice|Bob|Carol)\\s(eats|pets|throws)\\s(apples|cats|baseballs)\\.$'\n",
    "strings = ['Alice eats apples.', 'Bob pets cats.', 'Carol throws baseballs.', 'Alice throws Apples.', 'BOB EATS CATS.', 'RoboCop eats apples.', 'ALICE THROWS FOOTBALLS.', 'Carol eats 7 cats.']\n",
    "\n",
    "for string in strings:\n",
    "    if re.match(pattern, string, re.IGNORECASE):\n",
    "        print(f\"'{string}' is a match.\")\n",
    "    else:\n",
    "        print(f\"'{string}' is not a match.\")\n",
    "\n",
    "output:\n",
    "'Alice eats apples.' is a match.\n",
    "'Bob pets cats.' is a match.\n",
    "'Carol throws baseballs.' is a match.\n",
    "'Alice throws Apples.' is a match.\n",
    "'BOB EATS CATS.' is a match.\n",
    "'RoboCop eats apples.' is not a match.\n",
    "'ALICE THROWS FOOTBALLS.' is not a match.\n",
    "'Carol eats 7 cats.' is not a match.\n"
   ]
  }
 ],
 "metadata": {
  "kernelspec": {
   "display_name": "Python 3 (ipykernel)",
   "language": "python",
   "name": "python3"
  },
  "language_info": {
   "codemirror_mode": {
    "name": "ipython",
    "version": 3
   },
   "file_extension": ".py",
   "mimetype": "text/x-python",
   "name": "python",
   "nbconvert_exporter": "python",
   "pygments_lexer": "ipython3",
   "version": "3.9.12"
  }
 },
 "nbformat": 4,
 "nbformat_minor": 5
}
